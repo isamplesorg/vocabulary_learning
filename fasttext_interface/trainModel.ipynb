{
 "cells": [
  {
   "cell_type": "code",
   "execution_count": 1,
   "source": [
    "#File: CollectionPredict.ipynb\r\n",
    "#Purpose: use fastText model to predict DwC different collections\r\n",
    "#Author: Quan Gan\r\n",
    "import fasttext"
   ],
   "outputs": [],
   "metadata": {}
  },
  {
   "cell_type": "code",
   "execution_count": 3,
   "source": [
    "#Method: trainModel\r\n",
    "#Purpose: train fastText model\r\n",
    "#Paremater: trainSet -> the trainSet file path\r\n",
    "#           input_word_vector -> the pretrained word vector file path\r\n",
    "def trainModel(trainSet, input_word_vector):\r\n",
    "    model = fasttext.train_supervised(input = trainSet,\r\n",
    "                                      dim = 300,\r\n",
    "                                      lr = 0.5,\r\n",
    "                                      epoch = 20,\r\n",
    "                                      loss ='ova',\r\n",
    "                                      pretrainedVectors = input_word_vector)\r\n",
    "    return model"
   ],
   "outputs": [],
   "metadata": {}
  },
  {
   "cell_type": "code",
   "execution_count": 5,
   "source": [
    "# train a fasttext modal and store model into a bin file\r\n",
    "modal = trainModel(\"../data/cleanedData.txt\", \"../data/crawl-300d-2M-subword.vec\")\r\n",
    "modal.save_model('sampledFeature.bin')"
   ],
   "outputs": [],
   "metadata": {}
  }
 ],
 "metadata": {
  "orig_nbformat": 4,
  "language_info": {
   "name": "python",
   "version": "3.9.2",
   "mimetype": "text/x-python",
   "codemirror_mode": {
    "name": "ipython",
    "version": 3
   },
   "pygments_lexer": "ipython3",
   "nbconvert_exporter": "python",
   "file_extension": ".py"
  },
  "kernelspec": {
   "name": "python3",
   "display_name": "Python 3.9.2 64-bit"
  },
  "interpreter": {
   "hash": "c5562ae4cb73c005d4d512b63371f9759c2bba9f1255843d95070cdaa5df3d5e"
  }
 },
 "nbformat": 4,
 "nbformat_minor": 2
}