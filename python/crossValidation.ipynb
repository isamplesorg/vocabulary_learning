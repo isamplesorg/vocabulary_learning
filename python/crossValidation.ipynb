{
 "cells": [
  {
   "cell_type": "code",
   "execution_count": 2,
   "source": [
    "#File: crossValidation.ipynb\r\n",
    "#Purpose: use cross validation to evaluate the model\r\n",
    "#Author: Quan Gan\r\n",
    "import fasttext\r\n",
    "import pandas as pd\r\n",
    "import numpy as np\r\n",
    "import matplotlib.pyplot as plt\r\n",
    "import os"
   ],
   "outputs": [],
   "metadata": {}
  },
  {
   "cell_type": "code",
   "execution_count": 3,
   "source": [
    "from sklearn.model_selection import KFold"
   ],
   "outputs": [],
   "metadata": {}
  },
  {
   "cell_type": "code",
   "execution_count": 77,
   "source": [
    "#Method: trainModel\r\n",
    "#Purpose: train fastText model\r\n",
    "#Paremater: trainSet -> the trainSet file path\r\n",
    "#           input_word_vector -> the pretrained word vector file path\r\n",
    "def trainModel(trainSet, input_word_vector, LR, Epoch):\r\n",
    "    model = fasttext.train_supervised(input = trainSet,\r\n",
    "                                      dim = 300,\r\n",
    "                                      lr = LR,\r\n",
    "                                      epoch = Epoch,\r\n",
    "                                      loss ='ova',\r\n",
    "                                      pretrainedVectors = input_word_vector)\r\n",
    "    return model"
   ],
   "outputs": [],
   "metadata": {}
  },
  {
   "cell_type": "code",
   "execution_count": 78,
   "source": [
    "#Method: cross_Validation\r\n",
    "#Purpose: use cross validation to evaluate the result\r\n",
    "#Parameter: df -> the input data\r\n",
    "#           NFold -> number of fold\r\n",
    "def cross_Validation(df, NFold, lr, epoch):\r\n",
    "    kfold = KFold(n_splits=NFold, shuffle=True, random_state=1)\r\n",
    "    precision = 0\r\n",
    "    recall = 0\r\n",
    "    for train, test in kfold.split(df):\r\n",
    "        df.iloc[train].to_csv('train.train', header=False, index=False)\r\n",
    "        df.iloc[test].to_csv('test.valid', header=False, index=False)\r\n",
    "   \r\n",
    "        model = trainModel('train.train', '../data/crawl-300d-2M-subword.vec', lr, epoch)\r\n",
    "        result = model.test('test.valid', k=1)\r\n",
    "\r\n",
    "        precision += result[1]\r\n",
    "        recall += result[2]\r\n",
    "        os.remove('test.valid')\r\n",
    "        os.remove('train.train')\r\n",
    "    print(\"{} fold Cross Validation\".format(NFold))\r\n",
    "    print(\"Precision:\", round(precision/NFold, 4))\r\n",
    "    print(\"Recall:\", round(recall/NFold,4))\r\n",
    "    return round(precision/NFold, 4), round(recall/NFold,4)"
   ],
   "outputs": [],
   "metadata": {}
  },
  {
   "cell_type": "code",
   "execution_count": 82,
   "source": [
    "def diffSizeCV(dataFrame, lr, epoch, step, kfold, seed):\r\n",
    "    result = pd.DataFrame(columns=['amount', 'Precision@1', 'Recall@1'])\r\n",
    "\r\n",
    "    count = step\r\n",
    "    temp = dataFrame\r\n",
    "    train = pd.DataFrame()\r\n",
    "    while len(temp) != 0:\r\n",
    "        current = temp.sample(n = count, random_state=seed)\r\n",
    "        train = pd.concat([train, current])\r\n",
    "        precision, recall = cross_Validation(train, kfold, lr, epoch)\r\n",
    "        result = pd.concat([result, pd.DataFrame([[len(train), precision, recall]], columns=['amount', 'Precision@1', 'Recall@1'])], ignore_index=True)\r\n",
    "        cond = temp[0].index.isin(current[0].index)\r\n",
    "        temp = temp.loc[~cond]   \r\n",
    "        count = min(step, len(temp))\r\n",
    "    return result"
   ],
   "outputs": [],
   "metadata": {}
  },
  {
   "cell_type": "code",
   "execution_count": 88,
   "source": [
    "def drawGraph(df, title, amount,ylim=[0, 100]):\r\n",
    "    fig = plt.figure(figsize=[10,5])\r\n",
    "    ax = fig.add_subplot()\r\n",
    "\r\n",
    "    p = ax.plot(df['amount'], df['Precision@1']*100, label='Precision')\r\n",
    "    r = ax.plot(df['amount'], df['Recall@1']*100, label='Recall')\r\n",
    "\r\n",
    "    for i, rect in enumerate(df.index):\r\n",
    "        ax.text(df['amount'][i]-5, df['Precision@1'][rect]*100+1,  round(df['Precision@1'][rect]*100, 4), color='blue')\r\n",
    "\r\n",
    "    for j, rect1 in enumerate(df.index):\r\n",
    "        ax.text(df['amount'][j]-5, df['Recall@1'][rect1]*100-1.5,  round(df['Recall@1'][rect1]*100, 4), color='orange')\r\n",
    "\r\n",
    "    ax.set_ylim(ylim)\r\n",
    "    plt.legend(loc='upper left')\r\n",
    "    plt.xlabel('Record counts')\r\n",
    "    plt.ylabel('Scores')\r\n",
    "    plt.title(f'{title} performance {amount} records')"
   ],
   "outputs": [
    {
     "output_type": "error",
     "ename": "SyntaxError",
     "evalue": "non-default argument follows default argument (Temp/ipykernel_27432/2825217133.py, line 1)",
     "traceback": [
      "\u001b[1;36m  File \u001b[1;32m\"C:\\Users\\gq121\\AppData\\Local\\Temp/ipykernel_27432/2825217133.py\"\u001b[1;36m, line \u001b[1;32m1\u001b[0m\n\u001b[1;33m    def drawGraph(df, title, ylim=[0, 100], amount):\u001b[0m\n\u001b[1;37m                                                  ^\u001b[0m\n\u001b[1;31mSyntaxError\u001b[0m\u001b[1;31m:\u001b[0m non-default argument follows default argument\n"
     ]
    }
   ],
   "metadata": {}
  },
  {
   "cell_type": "code",
   "execution_count": 83,
   "source": [
    "df_DwC = pd.read_csv('../data/cleanedData.txt', header= None)\r\n",
    "DwC_result = diffSizeCV(df_DwC, 0.5, 20, 100, 5, 2)"
   ],
   "outputs": [
    {
     "output_type": "stream",
     "name": "stdout",
     "text": [
      "5 fold Cross Validation\n",
      "Precision: 0.79\n",
      "Recall: 0.7671\n",
      "5 fold Cross Validation\n",
      "Precision: 0.87\n",
      "Recall: 0.841\n",
      "5 fold Cross Validation\n",
      "Precision: 0.8867\n",
      "Recall: 0.8611\n",
      "5 fold Cross Validation\n",
      "Precision: 0.915\n",
      "Recall: 0.8934\n",
      "5 fold Cross Validation\n",
      "Precision: 0.926\n",
      "Recall: 0.9031\n",
      "5 fold Cross Validation\n",
      "Precision: 0.9233\n",
      "Recall: 0.9023\n",
      "5 fold Cross Validation\n",
      "Precision: 0.9243\n",
      "Recall: 0.9024\n",
      "5 fold Cross Validation\n",
      "Precision: 0.9337\n",
      "Recall: 0.9134\n",
      "5 fold Cross Validation\n",
      "Precision: 0.9211\n",
      "Recall: 0.9012\n",
      "5 fold Cross Validation\n",
      "Precision: 0.9307\n",
      "Recall: 0.9115\n"
     ]
    }
   ],
   "metadata": {}
  },
  {
   "cell_type": "code",
   "execution_count": 87,
   "source": [
    "drawGraph(DwC_result, 'Smithsonian/fastText', [60, 100], len(df_DwC))"
   ],
   "outputs": [
    {
     "output_type": "error",
     "ename": "TypeError",
     "evalue": "drawGraph() takes from 2 to 3 positional arguments but 4 were given",
     "traceback": [
      "\u001b[1;31m---------------------------------------------------------------------------\u001b[0m",
      "\u001b[1;31mTypeError\u001b[0m                                 Traceback (most recent call last)",
      "\u001b[1;32m~\\AppData\\Local\\Temp/ipykernel_27432/397755979.py\u001b[0m in \u001b[0;36m<module>\u001b[1;34m\u001b[0m\n\u001b[1;32m----> 1\u001b[1;33m \u001b[0mdrawGraph\u001b[0m\u001b[1;33m(\u001b[0m\u001b[0mDwC_result\u001b[0m\u001b[1;33m,\u001b[0m \u001b[1;34m'Smithsonian/fastText'\u001b[0m\u001b[1;33m,\u001b[0m \u001b[1;33m[\u001b[0m\u001b[1;36m60\u001b[0m\u001b[1;33m,\u001b[0m \u001b[1;36m100\u001b[0m\u001b[1;33m]\u001b[0m\u001b[1;33m,\u001b[0m \u001b[0mlen\u001b[0m\u001b[1;33m(\u001b[0m\u001b[0mdf_DwC\u001b[0m\u001b[1;33m)\u001b[0m\u001b[1;33m)\u001b[0m\u001b[1;33m\u001b[0m\u001b[1;33m\u001b[0m\u001b[0m\n\u001b[0m",
      "\u001b[1;31mTypeError\u001b[0m: drawGraph() takes from 2 to 3 positional arguments but 4 were given"
     ]
    }
   ],
   "metadata": {}
  },
  {
   "cell_type": "code",
   "execution_count": 86,
   "source": [
    "SESAR_specimenType = pd.read_csv('../Collections_data/cleanedSESAR_specimenType.txt', header= None)\r\n",
    "SESAR_specimenType_result = diffSizeCV(SESAR_specimenType, 0.1, 20, 100, 5, 2)"
   ],
   "outputs": [
    {
     "output_type": "stream",
     "name": "stdout",
     "text": [
      "5 fold Cross Validation\n",
      "Precision: 0.99\n",
      "Recall: 0.99\n",
      "5 fold Cross Validation\n",
      "Precision: 0.995\n",
      "Recall: 0.995\n",
      "5 fold Cross Validation\n",
      "Precision: 0.9966\n",
      "Recall: 0.9966\n",
      "5 fold Cross Validation\n",
      "Precision: 0.9975\n",
      "Recall: 0.9975\n",
      "5 fold Cross Validation\n",
      "Precision: 0.99\n",
      "Recall: 0.99\n",
      "5 fold Cross Validation\n",
      "Precision: 0.9917\n",
      "Recall: 0.9917\n",
      "5 fold Cross Validation\n",
      "Precision: 0.9943\n",
      "Recall: 0.9943\n",
      "5 fold Cross Validation\n",
      "Precision: 0.9938\n",
      "Recall: 0.9938\n",
      "5 fold Cross Validation\n",
      "Precision: 0.9933\n",
      "Recall: 0.9933\n",
      "5 fold Cross Validation\n",
      "Precision: 0.9918\n",
      "Recall: 0.9918\n"
     ]
    }
   ],
   "metadata": {}
  }
 ],
 "metadata": {
  "orig_nbformat": 4,
  "language_info": {
   "name": "python",
   "version": "3.9.2",
   "mimetype": "text/x-python",
   "codemirror_mode": {
    "name": "ipython",
    "version": 3
   },
   "pygments_lexer": "ipython3",
   "nbconvert_exporter": "python",
   "file_extension": ".py"
  },
  "kernelspec": {
   "name": "python3",
   "display_name": "Python 3.9.2 64-bit"
  },
  "interpreter": {
   "hash": "c5562ae4cb73c005d4d512b63371f9759c2bba9f1255843d95070cdaa5df3d5e"
  }
 },
 "nbformat": 4,
 "nbformat_minor": 2
}