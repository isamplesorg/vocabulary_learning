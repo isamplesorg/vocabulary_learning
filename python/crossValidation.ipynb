{
 "cells": [
  {
   "cell_type": "code",
   "execution_count": 14,
   "source": [
    "#File: crossValidation.ipynb\r\n",
    "#Purpose: use cross validation to evaluate the model\r\n",
    "#Author: Quan Gan\r\n",
    "import fasttext\r\n",
    "import pandas as pd\r\n",
    "import numpy as np\r\n",
    "import os"
   ],
   "outputs": [],
   "metadata": {}
  },
  {
   "cell_type": "code",
   "execution_count": 15,
   "source": [
    "#Method: trainModel\r\n",
    "#Purpose: train fastText model\r\n",
    "#Paremater: trainSet -> the trainSet file path\r\n",
    "#           input_word_vector -> the pretrained word vector file path\r\n",
    "def trainModel(trainSet, input_word_vector):\r\n",
    "    model = fasttext.train_supervised(input = trainSet,\r\n",
    "                                      dim = 300,\r\n",
    "                                      lr = 0.5,\r\n",
    "                                      epoch = 20,\r\n",
    "                                      loss ='ova',\r\n",
    "                                      pretrainedVectors = input_word_vector)\r\n",
    "    return model"
   ],
   "outputs": [],
   "metadata": {}
  },
  {
   "cell_type": "code",
   "execution_count": 16,
   "source": [
    "from sklearn.model_selection import KFold"
   ],
   "outputs": [],
   "metadata": {}
  },
  {
   "cell_type": "code",
   "execution_count": 17,
   "source": [
    "#Method: cross_Validation\r\n",
    "#Purpose: use cross validation to evaluate the result\r\n",
    "#Parameter: df -> the input data\r\n",
    "#           NFold -> number of fold\r\n",
    "def cross_Validation(df, NFold):\r\n",
    "    kfold = KFold(n_splits=NFold, shuffle=True, random_state=1)\r\n",
    "    precision = 0\r\n",
    "    recall = 0\r\n",
    "    for train, test in kfold.split(df):\r\n",
    "        df.iloc[train].to_csv('train.train', header=False, index=False)\r\n",
    "        df.iloc[test].to_csv('test.valid', header=False, index=False)\r\n",
    "   \r\n",
    "        model = trainModel('train.train', '../data/crawl-300d-2M-subword.vec')\r\n",
    "        result = model.test('test.valid', k=1)\r\n",
    "\r\n",
    "        precision += result[1]\r\n",
    "        recall += result[2]\r\n",
    "        os.remove('test.valid')\r\n",
    "        os.remove('train.train')\r\n",
    "    print(\"{} fold Cross Validation\".format(NFold))\r\n",
    "    print(\"Precision:\", precision/NFold)\r\n",
    "    print(\"Recall:\", recall/NFold)"
   ],
   "outputs": [],
   "metadata": {}
  },
  {
   "cell_type": "code",
   "execution_count": 18,
   "source": [
    "df = pd.read_csv('../data/cleanedData.txt', header= None)"
   ],
   "outputs": [],
   "metadata": {}
  },
  {
   "cell_type": "code",
   "execution_count": 19,
   "source": [
    "cross_Validation(df, 5)"
   ],
   "outputs": [
    {
     "output_type": "stream",
     "name": "stdout",
     "text": [
      "5 fold Cross Validation\n",
      "Precision: 0.936683417085427\n",
      "Recall: 0.9175026664716576\n"
     ]
    }
   ],
   "metadata": {}
  },
  {
   "cell_type": "code",
   "execution_count": 20,
   "source": [
    "cross_Validation(df, 10)"
   ],
   "outputs": [
    {
     "output_type": "stream",
     "name": "stdout",
     "text": [
      "10 fold Cross Validation\n",
      "Precision: 0.9356464646464646\n",
      "Recall: 0.9165532503305824\n"
     ]
    }
   ],
   "metadata": {}
  }
 ],
 "metadata": {
  "orig_nbformat": 4,
  "language_info": {
   "name": "python",
   "version": "3.9.2",
   "mimetype": "text/x-python",
   "codemirror_mode": {
    "name": "ipython",
    "version": 3
   },
   "pygments_lexer": "ipython3",
   "nbconvert_exporter": "python",
   "file_extension": ".py"
  },
  "kernelspec": {
   "name": "python3",
   "display_name": "Python 3.9.2 64-bit"
  },
  "interpreter": {
   "hash": "c5562ae4cb73c005d4d512b63371f9759c2bba9f1255843d95070cdaa5df3d5e"
  }
 },
 "nbformat": 4,
 "nbformat_minor": 2
}