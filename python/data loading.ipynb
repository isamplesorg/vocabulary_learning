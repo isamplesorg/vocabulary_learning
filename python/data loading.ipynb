{
 "cells": [
  {
   "cell_type": "code",
   "execution_count": 38,
   "source": [
    "#Purpose: loading collections records from the Mars\r\n",
    "import requests\r\n",
    "import json\r\n",
    "import pandas as pd\r\n",
    "import numpy as np"
   ],
   "outputs": [],
   "metadata": {}
  },
  {
   "cell_type": "code",
   "execution_count": 2,
   "source": [
    "url = 'https://mars.cyverse.org/thing'\r\n",
    "res = requests.get(url)\r\n",
    "collectionsInfo = json.loads(res.text)\r\n",
    "collectionsInfo"
   ],
   "outputs": [
    {
     "output_type": "execute_result",
     "data": {
      "text/plain": [
       "{'status': [{'status': '200', 'count': 3027724},\n",
       "  {'status': '500', 'count': 4},\n",
       "  {'status': '503', 'count': 249}],\n",
       " 'authority': [{'authority': 'GEOME', 'count': 228457},\n",
       "  {'authority': 'OPENCONTEXT', 'count': 820272},\n",
       "  {'authority': 'SESAR', 'count': 1784731},\n",
       "  {'authority': 'SMITHSONIAN', 'count': 194517}]}"
      ]
     },
     "metadata": {},
     "execution_count": 2
    }
   ],
   "metadata": {}
  },
  {
   "cell_type": "code",
   "execution_count": 39,
   "source": [
    "def getID(index, collection, limit):\r\n",
    "    identifiers = []\r\n",
    "\r\n",
    "    for offset in index:\r\n",
    "        payload = {'offset':offset, 'limit': limit, 'status':200, 'authority': collection}\r\n",
    "        url = f'https://mars.cyverse.org/thing/'\r\n",
    "\r\n",
    "        res = requests.get(url, params=payload)\r\n",
    "        try:\r\n",
    "            res_json = json.loads(res.text)\r\n",
    "            identifiers += pd.json_normalize(res_json['data'])['id'].tolist()\r\n",
    "        except Exception as e:\r\n",
    "            print('error:', e)\r\n",
    "        \r\n",
    "    return identifiers"
   ],
   "outputs": [],
   "metadata": {}
  },
  {
   "cell_type": "code",
   "execution_count": 40,
   "source": [
    "def getInfo(method, identifier):\r\n",
    "    payload = {'full': 'false', 'format': method}\r\n",
    "    url = f'https://mars.cyverse.org/thing/{identifier}'\r\n",
    "\r\n",
    "    res = requests.get(url, params=payload)\r\n",
    "    if res.text != 'Internal Server Error':\r\n",
    "        res_json = json.loads(res.text)\r\n",
    "        return res_json\r\n",
    "    return None"
   ],
   "outputs": [],
   "metadata": {}
  },
  {
   "cell_type": "code",
   "execution_count": 41,
   "source": [
    "def convertToDf(id, method, collection):\r\n",
    "    result = pd.DataFrame()\r\n",
    "    for i in id:\r\n",
    "        try:\r\n",
    "            df = pd.json_normalize(getInfo(method, i))\r\n",
    "            if method == 'core' and collection=='OPENCONTEXT':\r\n",
    "                df['uri'] = i\r\n",
    "            result = result.append(df, ignore_index=True)\r\n",
    "        except Exception as e:\r\n",
    "            print(e)\r\n",
    "    return result"
   ],
   "outputs": [],
   "metadata": {}
  },
  {
   "cell_type": "code",
   "execution_count": 6,
   "source": [
    "#SESAR records\r\n",
    "subsetIndex = pd.DataFrame([i*1000  for i in range(int(collectionsInfo['authority'][2]['count']/1000))]).sample(n=50, random_state=1)[0].tolist()"
   ],
   "outputs": [],
   "metadata": {}
  },
  {
   "cell_type": "code",
   "execution_count": 7,
   "source": [
    "identifiers_5000 = getID(subsetIndex, 'SESAR', 1000)\r\n",
    "identifiers_5000 = pd.DataFrame(identifiers_5000).sample(n=5000, random_state=1)[0].tolist()"
   ],
   "outputs": [],
   "metadata": {}
  },
  {
   "cell_type": "code",
   "execution_count": 10,
   "source": [
    "SESAR_5000_original = convertToDf(identifiers_5000, 'original', 'SESAR')\r\n",
    "SESAR_5000_core = convertToDf(identifiers_5000, 'core', 'SESAR')"
   ],
   "outputs": [],
   "metadata": {}
  },
  {
   "cell_type": "code",
   "execution_count": 40,
   "source": [
    "SESAR_5000_original.to_csv('../Collections_data/SESAR_5000_original.csv')\r\n",
    "SESAR_5000_core.to_csv('../Collections_data/SESAR_5000_core.csv')"
   ],
   "outputs": [],
   "metadata": {}
  },
  {
   "cell_type": "code",
   "execution_count": 10,
   "source": [
    "#openContext data\r\n",
    "openContextIndex = pd.DataFrame([i*1000 for i in range(int(collectionsInfo['authority'][1]['count']/1000))]).sample(n=50, random_state=1)[0].tolist()"
   ],
   "outputs": [],
   "metadata": {}
  },
  {
   "cell_type": "code",
   "execution_count": 12,
   "source": [
    "openContext_5000 = getID(openContextIndex, 'OPENCONTEXT', 1000)"
   ],
   "outputs": [
    {
     "output_type": "stream",
     "name": "stdout",
     "text": [
      "error: Expecting value: line 1 column 1 (char 0)\n",
      "error: Expecting value: line 1 column 1 (char 0)\n"
     ]
    }
   ],
   "metadata": {}
  },
  {
   "cell_type": "code",
   "execution_count": 15,
   "source": [
    "openContext_5000 = pd.DataFrame(openContext_5000).sample(n=5000, random_state=1)[0].tolist()"
   ],
   "outputs": [],
   "metadata": {}
  },
  {
   "cell_type": "code",
   "execution_count": 16,
   "source": [
    "OPENCONTEXT_5000_original = convertToDf(openContext_5000, 'original', 'OPENCONTEXT')\r\n"
   ],
   "outputs": [],
   "metadata": {}
  },
  {
   "cell_type": "code",
   "execution_count": 32,
   "source": [
    "OPENCONTEXT_5000_core = convertToDf(openContext_5000, 'core', 'OPENCONTEXT')"
   ],
   "outputs": [
    {
     "output_type": "stream",
     "name": "stdout",
     "text": [
      "\n",
      "\n",
      "\n",
      "\n"
     ]
    }
   ],
   "metadata": {}
  },
  {
   "cell_type": "code",
   "execution_count": 36,
   "source": [
    "OPENCONTEXT_5000_original.to_csv('../Collections_data/OPENCONTEXT_5000_original.csv')\r\n",
    "OPENCONTEXT_5000_core.to_csv('../Collections_data/OPENCONTEXT_5000_core.csv')\r\n"
   ],
   "outputs": [],
   "metadata": {}
  }
 ],
 "metadata": {
  "orig_nbformat": 4,
  "language_info": {
   "name": "python",
   "version": "3.9.2",
   "mimetype": "text/x-python",
   "codemirror_mode": {
    "name": "ipython",
    "version": 3
   },
   "pygments_lexer": "ipython3",
   "nbconvert_exporter": "python",
   "file_extension": ".py"
  },
  "kernelspec": {
   "name": "python3",
   "display_name": "Python 3.9.2 64-bit"
  },
  "interpreter": {
   "hash": "c5562ae4cb73c005d4d512b63371f9759c2bba9f1255843d95070cdaa5df3d5e"
  }
 },
 "nbformat": 4,
 "nbformat_minor": 2
}