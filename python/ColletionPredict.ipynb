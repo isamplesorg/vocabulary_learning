{
 "metadata": {
  "language_info": {
   "codemirror_mode": {
    "name": "ipython",
    "version": 3
   },
   "file_extension": ".py",
   "mimetype": "text/x-python",
   "name": "python",
   "nbconvert_exporter": "python",
   "pygments_lexer": "ipython3",
   "version": "3.9.2"
  },
  "orig_nbformat": 4,
  "kernelspec": {
   "name": "python3",
   "display_name": "Python 3.9.2 64-bit"
  },
  "interpreter": {
   "hash": "c5562ae4cb73c005d4d512b63371f9759c2bba9f1255843d95070cdaa5df3d5e"
  }
 },
 "nbformat": 4,
 "nbformat_minor": 2,
 "cells": [
  {
   "cell_type": "code",
   "execution_count": 16,
   "source": [
    "#File: CollectionPredict.ipynb\n",
    "#Purpose: use fastText model to predict DwC different collections\n",
    "#Author: Quan Gan\n",
    "import fasttext\n",
    "import csv"
   ],
   "outputs": [],
   "metadata": {}
  },
  {
   "cell_type": "code",
   "execution_count": 17,
   "source": [
    "# 'Amphibians' refers to 'Amphibians %26 Reptiles'\n",
    "# 'zoology' refers to 'Invertebrate Zoology'\n",
    "collections = [\"Amphibians\", \"Birds\", \"Botany\", \"Entomology\", \"Fishes\", \"Mammals\", \"zoology\"]"
   ],
   "outputs": [],
   "metadata": {}
  },
  {
   "cell_type": "code",
   "execution_count": 18,
   "source": [
    "#Method: trainModel\n",
    "#Purpose: train fastText model\n",
    "#Paremater: trainSet -> the trainSet file path\n",
    "#           input_word_vector -> the pretrained word vector file path\n",
    "def trainModel(trainSet, input_word_vector):\n",
    "    model = fasttext.train_supervised(input = trainSet,\n",
    "                                      dim = 300,\n",
    "                                      lr = 0.5,\n",
    "                                      epoch = 20,\n",
    "                                      loss ='ova',\n",
    "                                      pretrainedVectors = input_word_vector)\n",
    "    return model"
   ],
   "outputs": [],
   "metadata": {}
  },
  {
   "cell_type": "code",
   "execution_count": 19,
   "source": [
    "#Method: getPredictList\n",
    "#Purpose: read predict file and store data into list\n",
    "#Parameter: filePath -> the predict file path\n",
    "def getPredictList(filePath):\n",
    "    predict_file = open(filePath, 'r')\n",
    "    predict_sentences = []\n",
    "    for line in predict_file:\n",
    "        predict_sentences.append(line.strip())\n",
    "    return predict_sentences"
   ],
   "outputs": [],
   "metadata": {}
  },
  {
   "cell_type": "code",
   "execution_count": 20,
   "source": [
    "#Method: calulateProb\n",
    "#Purpose: calulate the average, minimum and maximum probility.\n",
    "#Parameter: prob -> the probility list\n",
    "def calulateProb(prob):\n",
    "    avg_prob = 0\n",
    "    max = -float(\"inf\")\n",
    "    min = float(\"inf\")\n",
    "    for i in prob:\n",
    "        avg_prob += i[0]\n",
    "        if max < i[0]:\n",
    "            max = i[0]\n",
    "        if min > i[0]:\n",
    "            min = i[0]\n",
    "    avg_prob = avg_prob/len(prob)\n",
    "    return avg_prob, max, min"
   ],
   "outputs": [],
   "metadata": {}
  },
  {
   "cell_type": "code",
   "execution_count": 21,
   "source": [
    "#Method: csvResult\n",
    "#Purpose: store result into csv file\n",
    "#Parameter: prob -> the probility list\n",
    "def csvResult(fileName, result):\n",
    "    with open(\"../data/Collection_result/{}_result.txt\".format(fileName), 'w', newline='') as output_file:\n",
    "        for i in range(0, len(result[0])):\n",
    "            output_file.write(\"Label: {} - Probility: {}\\n\".format(result[0][i], result[1][i][0]))"
   ],
   "outputs": [],
   "metadata": {}
  },
  {
   "cell_type": "code",
   "execution_count": 22,
   "source": [
    "#trian the model with simple trainset\n",
    "model = trainModel(\"../data/steve_696.train\", \"../data/crawl-300d-2M-subword.vec\")"
   ],
   "outputs": [
    {
     "output_type": "stream",
     "name": "stderr",
     "text": [
      "Read 0M words\n",
      "Number of words:  2883\n",
      "Number of labels: 6\n",
      "Progress: 100.0% words/sec/thread: 1497396 lr:  0.000000 avg.loss:  0.002422 ETA:   0h 0m 0s\n"
     ]
    }
   ],
   "metadata": {}
  },
  {
   "cell_type": "code",
   "execution_count": 24,
   "source": [
    "probPredict = []\n",
    "for i in collections:\n",
    "    predictList = getPredictList(\"../data/Collection_predict/{}_predict.txt\".format(i))\n",
    "    result = model.predict(predictList, k=1)\n",
    "    csvResult(i, result)\n",
    "    avg, max, min = calulateProb(result[1])\n",
    "    probPredict.append({\"Collcetion\": i, \"Average_prob\": avg, \"Max_prob\": max, \"Min_prob\": min})"
   ],
   "outputs": [],
   "metadata": {}
  },
  {
   "cell_type": "code",
   "execution_count": 25,
   "source": [
    "#Method: output_to_csv\n",
    "#Purpose: convert result performances into csv file\n",
    "#Parameters: fileName -> the filename without file extension (the file will be stored in current file location)\n",
    "#            result -> the performances result\n",
    "def output_to_csv(fileName, result):\n",
    "    keys = ['Collcetion', 'Average_prob', 'Max_prob', 'Min_prob']\n",
    "    with open(fileName + '.csv', 'w', newline='') as output_file:\n",
    "        writer = csv.DictWriter(output_file, keys)\n",
    "        writer.writeheader()\n",
    "        writer.writerows(result)"
   ],
   "outputs": [],
   "metadata": {}
  },
  {
   "cell_type": "code",
   "execution_count": 26,
   "source": [
    "output_to_csv(\"../data/Collection_result/Sum_Result\", probPredict)"
   ],
   "outputs": [],
   "metadata": {}
  }
 ]
}