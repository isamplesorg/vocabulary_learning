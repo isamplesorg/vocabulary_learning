{
 "metadata": {
  "language_info": {
   "codemirror_mode": {
    "name": "ipython",
    "version": 3
   },
   "file_extension": ".py",
   "mimetype": "text/x-python",
   "name": "python",
   "nbconvert_exporter": "python",
   "pygments_lexer": "ipython3",
   "version": "3.9.2"
  },
  "orig_nbformat": 4,
  "kernelspec": {
   "name": "python3",
   "display_name": "Python 3.9.2 64-bit"
  },
  "interpreter": {
   "hash": "c5562ae4cb73c005d4d512b63371f9759c2bba9f1255843d95070cdaa5df3d5e"
  }
 },
 "nbformat": 4,
 "nbformat_minor": 2,
 "cells": [
  {
   "cell_type": "code",
   "execution_count": 1,
   "source": [
    "#File: Performances.ipynb\r\n",
    "#Purpose: find best parameters to train fastText model\r\n",
    "#Author: Quan Gan\r\n",
    "import fasttext\r\n",
    "import csv "
   ],
   "outputs": [],
   "metadata": {}
  },
  {
   "cell_type": "code",
   "execution_count": 2,
   "source": [
    "#Method: sortHelper\r\n",
    "#Purpose: result list sorting helper\r\n",
    "def sortHelper(e):\r\n",
    "    return e['precision']"
   ],
   "outputs": [],
   "metadata": {}
  },
  {
   "cell_type": "code",
   "execution_count": 3,
   "source": [
    "#Method: getPerformance\r\n",
    "#Purpose: train different fasttext models with different parameters and return performances\r\n",
    "#Parameters: input_train -> the trainset file path\r\n",
    "#            input_word_vector -> pretained word vector file path\r\n",
    "#            input_test -> the testset file path\r\n",
    "def getPerformance(input_train, input_word_vector, input_test):\r\n",
    "    result = []\r\n",
    "    for lr in [0.1, 0.5, 1]:\r\n",
    "        for epoch in [5, 10, 15, 20, 25]:\r\n",
    "            model = fasttext.train_supervised(input = input_train,\r\n",
    "                                              dim = 300,\r\n",
    "                                              lr = lr,\r\n",
    "                                              epoch = epoch,\r\n",
    "                                              loss ='ova',\r\n",
    "                                              pretrainedVectors = input_word_vector)\r\n",
    "            for k in range(1, 6):\r\n",
    "                Performance = model.test(input_test, k=k)\r\n",
    "                result.append({'precision' : Performance[1], 'recall' : Performance[2], 'k':k, 'learning rate' : lr, 'epoch': epoch})\r\n",
    "    result.sort(key=sortHelper, reverse=True)\r\n",
    "    return result"
   ],
   "outputs": [],
   "metadata": {}
  },
  {
   "cell_type": "code",
   "execution_count": 4,
   "source": [
    "#Method: output_to_csv\r\n",
    "#Purpose: convert result performances into csv file\r\n",
    "#Parameters: fileName -> the filename without file extension (the file will be stored in current file location)\r\n",
    "#            result -> the performances result\r\n",
    "def output_to_csv(fileName, result):\r\n",
    "    keys = ['precision', 'recall', 'k', 'learning rate','epoch']\r\n",
    "    with open(fileName + '.csv', 'w', newline='') as output_file:\r\n",
    "        writer = csv.DictWriter(output_file, keys)\r\n",
    "        writer.writeheader()\r\n",
    "        writer.writerows(result)"
   ],
   "outputs": [],
   "metadata": {}
  },
  {
   "cell_type": "code",
   "execution_count": 11,
   "source": [
    "#simple model performance result\r\n",
    "simple_result = getPerformance(\"../data/DwC_simple.train\", \"../data/crawl-300d-2M-subword.vec\", \"../data/DwC_simple.valid\")\r\n",
    "output_to_csv(\"../data/Performance_result/simple_performance\", simple_result)"
   ],
   "outputs": [
    {
     "output_type": "error",
     "ename": "KeyboardInterrupt",
     "evalue": "",
     "traceback": [
      "\u001b[1;31m---------------------------------------------------------------------------\u001b[0m",
      "\u001b[1;31mKeyboardInterrupt\u001b[0m                         Traceback (most recent call last)",
      "\u001b[1;32m~\\AppData\\Local\\Temp/ipykernel_23688/1420362088.py\u001b[0m in \u001b[0;36m<module>\u001b[1;34m\u001b[0m\n\u001b[0;32m      1\u001b[0m \u001b[1;31m#simple model performance result\u001b[0m\u001b[1;33m\u001b[0m\u001b[1;33m\u001b[0m\u001b[1;33m\u001b[0m\u001b[0m\n\u001b[1;32m----> 2\u001b[1;33m \u001b[0msimple_result\u001b[0m \u001b[1;33m=\u001b[0m \u001b[0mgetPerformance\u001b[0m\u001b[1;33m(\u001b[0m\u001b[1;34m\"../data/DwC_simple.train\"\u001b[0m\u001b[1;33m,\u001b[0m \u001b[1;34m\"../data/crawl-300d-2M-subword.vec\"\u001b[0m\u001b[1;33m,\u001b[0m \u001b[1;34m\"../data/DwC_simple.valid\"\u001b[0m\u001b[1;33m)\u001b[0m\u001b[1;33m\u001b[0m\u001b[1;33m\u001b[0m\u001b[0m\n\u001b[0m\u001b[0;32m      3\u001b[0m \u001b[0moutput_to_csv\u001b[0m\u001b[1;33m(\u001b[0m\u001b[1;34m\"../data/Performance_result/simple_performance\"\u001b[0m\u001b[1;33m,\u001b[0m \u001b[0msimple_result\u001b[0m\u001b[1;33m)\u001b[0m\u001b[1;33m\u001b[0m\u001b[1;33m\u001b[0m\u001b[0m\n",
      "\u001b[1;32m~\\AppData\\Local\\Temp/ipykernel_23688/3837994997.py\u001b[0m in \u001b[0;36mgetPerformance\u001b[1;34m(input_train, input_word_vector, input_test)\u001b[0m\n\u001b[0;32m      8\u001b[0m     \u001b[1;32mfor\u001b[0m \u001b[0mlr\u001b[0m \u001b[1;32min\u001b[0m \u001b[1;33m[\u001b[0m\u001b[1;36m0.1\u001b[0m\u001b[1;33m,\u001b[0m \u001b[1;36m0.5\u001b[0m\u001b[1;33m,\u001b[0m \u001b[1;36m1\u001b[0m\u001b[1;33m]\u001b[0m\u001b[1;33m:\u001b[0m\u001b[1;33m\u001b[0m\u001b[1;33m\u001b[0m\u001b[0m\n\u001b[0;32m      9\u001b[0m         \u001b[1;32mfor\u001b[0m \u001b[0mepoch\u001b[0m \u001b[1;32min\u001b[0m \u001b[1;33m[\u001b[0m\u001b[1;36m5\u001b[0m\u001b[1;33m,\u001b[0m \u001b[1;36m10\u001b[0m\u001b[1;33m,\u001b[0m \u001b[1;36m15\u001b[0m\u001b[1;33m,\u001b[0m \u001b[1;36m20\u001b[0m\u001b[1;33m,\u001b[0m \u001b[1;36m25\u001b[0m\u001b[1;33m]\u001b[0m\u001b[1;33m:\u001b[0m\u001b[1;33m\u001b[0m\u001b[1;33m\u001b[0m\u001b[0m\n\u001b[1;32m---> 10\u001b[1;33m             model = fasttext.train_supervised(input = input_train,\n\u001b[0m\u001b[0;32m     11\u001b[0m                                               \u001b[0mdim\u001b[0m \u001b[1;33m=\u001b[0m \u001b[1;36m300\u001b[0m\u001b[1;33m,\u001b[0m\u001b[1;33m\u001b[0m\u001b[1;33m\u001b[0m\u001b[0m\n\u001b[0;32m     12\u001b[0m                                               \u001b[0mlr\u001b[0m \u001b[1;33m=\u001b[0m \u001b[0mlr\u001b[0m\u001b[1;33m,\u001b[0m\u001b[1;33m\u001b[0m\u001b[1;33m\u001b[0m\u001b[0m\n",
      "\u001b[1;32m~\\AppData\\Local\\Programs\\Python\\Python39\\lib\\site-packages\\fasttext\\FastText.py\u001b[0m in \u001b[0;36mtrain_supervised\u001b[1;34m(*kargs, **kwargs)\u001b[0m\n\u001b[0;32m    531\u001b[0m     \u001b[0ma\u001b[0m \u001b[1;33m=\u001b[0m \u001b[0m_build_args\u001b[0m\u001b[1;33m(\u001b[0m\u001b[0margs\u001b[0m\u001b[1;33m,\u001b[0m \u001b[0mmanually_set_args\u001b[0m\u001b[1;33m)\u001b[0m\u001b[1;33m\u001b[0m\u001b[1;33m\u001b[0m\u001b[0m\n\u001b[0;32m    532\u001b[0m     \u001b[0mft\u001b[0m \u001b[1;33m=\u001b[0m \u001b[0m_FastText\u001b[0m\u001b[1;33m(\u001b[0m\u001b[0margs\u001b[0m\u001b[1;33m=\u001b[0m\u001b[0ma\u001b[0m\u001b[1;33m)\u001b[0m\u001b[1;33m\u001b[0m\u001b[1;33m\u001b[0m\u001b[0m\n\u001b[1;32m--> 533\u001b[1;33m     \u001b[0mfasttext\u001b[0m\u001b[1;33m.\u001b[0m\u001b[0mtrain\u001b[0m\u001b[1;33m(\u001b[0m\u001b[0mft\u001b[0m\u001b[1;33m.\u001b[0m\u001b[0mf\u001b[0m\u001b[1;33m,\u001b[0m \u001b[0ma\u001b[0m\u001b[1;33m)\u001b[0m\u001b[1;33m\u001b[0m\u001b[1;33m\u001b[0m\u001b[0m\n\u001b[0m\u001b[0;32m    534\u001b[0m     \u001b[0mft\u001b[0m\u001b[1;33m.\u001b[0m\u001b[0mset_args\u001b[0m\u001b[1;33m(\u001b[0m\u001b[0mft\u001b[0m\u001b[1;33m.\u001b[0m\u001b[0mf\u001b[0m\u001b[1;33m.\u001b[0m\u001b[0mgetArgs\u001b[0m\u001b[1;33m(\u001b[0m\u001b[1;33m)\u001b[0m\u001b[1;33m)\u001b[0m\u001b[1;33m\u001b[0m\u001b[1;33m\u001b[0m\u001b[0m\n\u001b[0;32m    535\u001b[0m     \u001b[1;32mreturn\u001b[0m \u001b[0mft\u001b[0m\u001b[1;33m\u001b[0m\u001b[1;33m\u001b[0m\u001b[0m\n",
      "\u001b[1;31mKeyboardInterrupt\u001b[0m: "
     ]
    }
   ],
   "metadata": {}
  },
  {
   "cell_type": "code",
   "execution_count": 6,
   "source": [
    "#difficult model performance result\r\n",
    "difficult_result = getPerformance(\"../data/DwC_difficult.train\", \"../data/crawl-300d-2M-subword.vec\", \"../data/DwC_simple.valid\")\r\n",
    "output_to_csv(\"../data/Performance_result/difficult_performance\", difficult_result)"
   ],
   "outputs": [
    {
     "output_type": "stream",
     "name": "stderr",
     "text": [
      "Read 0M words\n",
      "Number of words:  692\n",
      "Number of labels: 7\n",
      "Progress: 100.0% words/sec/thread: 1367123 lr:  0.000000 avg.loss:  0.012161 ETA:   0h 0m 0s\n",
      "Read 0M words\n",
      "Number of words:  692\n",
      "Number of labels: 7\n",
      "Progress: 100.0% words/sec/thread: 1376383 lr:  0.000000 avg.loss:  0.013347 ETA:   0h 0m 0s\n",
      "Read 0M words\n",
      "Number of words:  692\n",
      "Number of labels: 7\n",
      "Progress: 100.0% words/sec/thread: 1429335 lr:  0.000000 avg.loss:  0.004101 ETA:   0h 0m 0s\n",
      "Read 0M words\n",
      "Number of words:  692\n",
      "Number of labels: 7\n",
      "Progress: 100.0% words/sec/thread: 1381290 lr:  0.000000 avg.loss:  0.003167 ETA:   0h 0m 0s\n",
      "Read 0M words\n",
      "Number of words:  692\n",
      "Number of labels: 7\n",
      "Progress: 100.0% words/sec/thread: 1320033 lr:  0.000000 avg.loss:  0.004449 ETA:   0h 0m 0s\n",
      "Read 0M words\n",
      "Number of words:  692\n",
      "Number of labels: 7\n",
      "Progress: 100.0% words/sec/thread: 1246574 lr:  0.000000 avg.loss:  0.002366 ETA:   0h 0m 0s\n",
      "Read 0M words\n",
      "Number of words:  692\n",
      "Number of labels: 7\n",
      "Progress: 100.0% words/sec/thread: 1371552 lr:  0.000000 avg.loss:  0.002409 ETA:   0h 0m 0s\n",
      "Read 0M words\n",
      "Number of words:  692\n",
      "Number of labels: 7\n",
      "Progress: 100.0% words/sec/thread: 1429717 lr:  0.000000 avg.loss:  0.001282 ETA:   0h 0m 0s\n",
      "Read 0M words\n",
      "Number of words:  692\n",
      "Number of labels: 7\n",
      "Progress: 100.0% words/sec/thread: 1415037 lr:  0.000000 avg.loss:  0.001094 ETA:   0h 0m 0s\n",
      "Read 0M words\n",
      "Number of words:  692\n",
      "Number of labels: 7\n",
      "Progress: 100.0% words/sec/thread: 1441553 lr:  0.000000 avg.loss:  0.000147 ETA:   0h 0m 0s\n",
      "Read 0M words\n",
      "Number of words:  692\n",
      "Number of labels: 7\n",
      "Progress: 100.0% words/sec/thread: 1378671 lr:  0.000000 avg.loss:  0.001670 ETA:   0h 0m 0s\n",
      "Read 0M words\n",
      "Number of words:  692\n",
      "Number of labels: 7\n",
      "Progress: 100.0% words/sec/thread: 1451177 lr:  0.000000 avg.loss:  0.000828 ETA:   0h 0m 0s\n",
      "Read 0M words\n",
      "Number of words:  692\n",
      "Number of labels: 7\n",
      "Progress: 100.0% words/sec/thread: 1425247 lr:  0.000000 avg.loss:  0.000394 ETA:   0h 0m 0s\n",
      "Read 0M words\n",
      "Number of words:  692\n",
      "Number of labels: 7\n",
      "Progress: 100.0% words/sec/thread: 1412265 lr:  0.000000 avg.loss:  0.001132 ETA:   0h 0m 0s\n",
      "Read 0M words\n",
      "Number of words:  692\n",
      "Number of labels: 7\n",
      "Progress: 100.0% words/sec/thread: 1438289 lr:  0.000000 avg.loss:  0.000057 ETA:   0h 0m 0s\n"
     ]
    }
   ],
   "metadata": {}
  },
  {
   "cell_type": "code",
   "execution_count": 7,
   "source": [
    "#model trained by steve mapping\r\n",
    "steve_result = getPerformance(\"../data/steve_696.train\", \"../data/crawl-300d-2M-subword.vec\", \"../data/steve_299.valid\")\r\n",
    "output_to_csv(\"../data/Performance_result/steve_performance\", steve_result)"
   ],
   "outputs": [
    {
     "output_type": "stream",
     "name": "stderr",
     "text": [
      "Read 0M words\n",
      "Number of words:  2717\n",
      "Number of labels: 6\n",
      "Progress: 100.0% words/sec/thread: 1540619 lr:  0.000000 avg.loss:  0.026534 ETA:   0h 0m 0s\n",
      "Read 0M words\n",
      "Number of words:  2717\n",
      "Number of labels: 6\n",
      "Progress: 100.0% words/sec/thread: 1631473 lr:  0.000000 avg.loss:  0.018439 ETA:   0h 0m 0s\n",
      "Read 0M words\n",
      "Number of words:  2717\n",
      "Number of labels: 6\n",
      "Progress: 100.0% words/sec/thread: 1657169 lr:  0.000000 avg.loss:  0.009325 ETA:   0h 0m 0s\n",
      "Read 0M words\n",
      "Number of words:  2717\n",
      "Number of labels: 6\n",
      "Progress: 100.0% words/sec/thread: 1738231 lr:  0.000000 avg.loss:  0.010632 ETA:   0h 0m 0s\n",
      "Read 0M words\n",
      "Number of words:  2717\n",
      "Number of labels: 6\n",
      "Progress: 100.0% words/sec/thread: 1701359 lr:  0.000000 avg.loss:  0.006012 ETA:   0h 0m 0s\n",
      "Read 0M words\n",
      "Number of words:  2717\n",
      "Number of labels: 6\n",
      "Progress: 100.0% words/sec/thread: 1544349 lr:  0.000000 avg.loss:  0.008524 ETA:   0h 0m 0s\n",
      "Read 0M words\n",
      "Number of words:  2717\n",
      "Number of labels: 6\n",
      "Progress: 100.0% words/sec/thread: 1633818 lr:  0.000000 avg.loss:  0.005329 ETA:   0h 0m 0s\n",
      "Read 0M words\n",
      "Number of words:  2717\n",
      "Number of labels: 6\n",
      "Progress: 100.0% words/sec/thread: 1666123 lr:  0.000000 avg.loss:  0.003646 ETA:   0h 0m 0s\n",
      "Read 0M words\n",
      "Number of words:  2717\n",
      "Number of labels: 6\n",
      "Progress: 100.0% words/sec/thread: 1690460 lr:  0.000000 avg.loss:  0.002342 ETA:   0h 0m 0s\n",
      "Read 0M words\n",
      "Number of words:  2717\n",
      "Number of labels: 6\n",
      "Progress: 100.0% words/sec/thread: 1738199 lr:  0.000000 avg.loss:  0.000992 ETA:   0h 0m 0s\n",
      "Read 0M words\n",
      "Number of words:  2717\n",
      "Number of labels: 6\n",
      "Progress: 100.0% words/sec/thread: 1541068 lr:  0.000000 avg.loss:  0.007790 ETA:   0h 0m 0s\n",
      "Read 0M words\n",
      "Number of words:  2717\n",
      "Number of labels: 6\n",
      "Progress: 100.0% words/sec/thread: 1637158 lr:  0.000000 avg.loss:  0.002079 ETA:   0h 0m 0s\n",
      "Read 0M words\n",
      "Number of words:  2717\n",
      "Number of labels: 6\n",
      "Progress: 100.0% words/sec/thread: 1678880 lr:  0.000000 avg.loss:  0.002645 ETA:   0h 0m 0s\n",
      "Read 0M words\n",
      "Number of words:  2717\n",
      "Number of labels: 6\n",
      "Progress: 100.0% words/sec/thread: 1684023 lr:  0.000000 avg.loss:  0.002007 ETA:   0h 0m 0s\n",
      "Read 0M words\n",
      "Number of words:  2717\n",
      "Number of labels: 6\n",
      "Progress: 100.0% words/sec/thread: 1729905 lr:  0.000000 avg.loss:  0.000946 ETA:   0h 0m 0s\n"
     ]
    }
   ],
   "metadata": {}
  },
  {
   "cell_type": "code",
   "execution_count": 12,
   "source": [
    "#model trained by speciment type SESAR\r\n",
    "SESAR_result = getPerformance(\"../Collections_data/SESARtrain_specimenType.train\", \"../data/crawl-300d-2M-subword.vec\", \"../Collections_data/SESARValid_specimenType.valid\")\r\n",
    "output_to_csv(\"../data/Performance_result/SESAR_performance_specimenType\", SESAR_result)"
   ],
   "outputs": [],
   "metadata": {}
  },
  {
   "cell_type": "code",
   "execution_count": 13,
   "source": [
    "#model trained by material type SESAR\r\n",
    "SESAR_result = getPerformance(\"../Collections_data/SESARtrain_materialType.train\", \"../data/crawl-300d-2M-subword.vec\", \"../Collections_data/SESARValid_materialType.valid\")\r\n",
    "output_to_csv(\"../data/Performance_result/SESAR_performance_materialType\", SESAR_result)"
   ],
   "outputs": [],
   "metadata": {}
  },
  {
   "cell_type": "code",
   "execution_count": 14,
   "source": [
    "#model trained by sampled Feature SESAR\r\n",
    "SESAR_result = getPerformance(\"../Collections_data/SESARtrain_sampeldFeature.train\", \"../data/crawl-300d-2M-subword.vec\", \"../Collections_data/SESARValid_sampeldFeature.valid\")\r\n",
    "output_to_csv(\"../data/Performance_result/SESAR_performance_sampledFeature\", SESAR_result)"
   ],
   "outputs": [],
   "metadata": {}
  }
 ]
}