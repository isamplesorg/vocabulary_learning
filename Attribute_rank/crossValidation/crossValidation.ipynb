{
 "cells": [
  {
   "cell_type": "code",
   "execution_count": 1,
   "metadata": {},
   "outputs": [],
   "source": [
    "#File: crossValidation.ipynb\n",
    "#Purpose: use cross validation to evaluate the model\n",
    "#Author: Quan Gan, Yuxuan Zhou\n",
    "import fasttext\n",
    "import pandas as pd\n",
    "import numpy as np\n",
    "import matplotlib.pyplot as plt\n",
    "import os"
   ]
  },
  {
   "cell_type": "code",
   "execution_count": 2,
   "metadata": {},
   "outputs": [],
   "source": [
    "from sklearn.model_selection import KFold"
   ]
  },
  {
   "cell_type": "code",
   "execution_count": 3,
   "metadata": {},
   "outputs": [],
   "source": [
    "#Method: trainModel\n",
    "#Purpose: train fastText model\n",
    "#Paremater: trainSet -> the trainSet file path\n",
    "#           input_word_vector -> the pretrained word vector file path\n",
    "def trainModel(trainSet, input_word_vector):\n",
    "    model = fasttext.train_supervised(input = trainSet,\n",
    "                                      dim = 300,\n",
    "                                      lr = 0.5,\n",
    "                                      epoch = 20,\n",
    "                                      loss ='ova',\n",
    "                                      pretrainedVectors = input_word_vector)\n",
    "    return model"
   ]
  },
  {
   "cell_type": "code",
   "execution_count": 4,
   "metadata": {},
   "outputs": [],
   "source": [
    "#Method: cross_Validation\n",
    "#Purpose: use cross validation to evaluate the result\n",
    "#Parameter: df -> the input data\n",
    "#           NFold -> number of fold\n",
    "def cross_Validation(df,NFold,lr,epoch):\n",
    "    kfold = KFold(n_splits=NFold,shuffle=True,random_state=1)\n",
    "    n = 1\n",
    "    for train, test in kfold.split(df):\n",
    "        df.iloc[train].to_csv('train.train', header=False, index=False)\n",
    "        df.iloc[test].to_csv('test.valid', header=False, index=False)\n",
    "\n",
    "        model = trainModel('train.train','wiki-news-300d-1M.vec')\n",
    "        result = model.test('test.valid',k=1)\n",
    "\n",
    "        os.remove('test.valid')\n",
    "        os.remove('train.train')\n",
    "        print(f\"{n} number of cross validation\")\n",
    "        print(\"Precision:\",result[1])\n",
    "        print(\"Recall:\",result[2])\n",
    "        n+=1"
   ]
  },
  {
   "cell_type": "code",
   "execution_count": 5,
   "metadata": {},
   "outputs": [],
   "source": [
    "# change the filename to get different cross validation\n",
    "df = pd.read_csv('cleanedData.txt', header= None)"
   ]
  },
  {
   "cell_type": "code",
   "execution_count": 6,
   "metadata": {},
   "outputs": [
    {
     "name": "stdout",
     "output_type": "stream",
     "text": [
      "1 number of cross validation\n",
      "Precision: 0.914572864321608\n",
      "Recall: 0.8792270531400966\n",
      "2 number of cross validation\n",
      "Precision: 0.9597989949748744\n",
      "Recall: 0.9408866995073891\n",
      "3 number of cross validation\n",
      "Precision: 0.9396984924623115\n",
      "Recall: 0.9303482587064676\n",
      "4 number of cross validation\n",
      "Precision: 0.9396984924623115\n",
      "Recall: 0.9257425742574258\n",
      "5 number of cross validation\n",
      "Precision: 0.9045226130653267\n",
      "Recall: 0.8866995073891626\n"
     ]
    }
   ],
   "source": [
    "cross_Validation(df, 5, 0.5, 20)"
   ]
  }
 ],
 "metadata": {
  "interpreter": {
   "hash": "c5562ae4cb73c005d4d512b63371f9759c2bba9f1255843d95070cdaa5df3d5e"
  },
  "kernelspec": {
   "display_name": "Python 3",
   "language": "python",
   "name": "python3"
  },
  "language_info": {
   "codemirror_mode": {
    "name": "ipython",
    "version": 3
   },
   "file_extension": ".py",
   "mimetype": "text/x-python",
   "name": "python",
   "nbconvert_exporter": "python",
   "pygments_lexer": "ipython3",
   "version": "3.9.2"
  }
 },
 "nbformat": 4,
 "nbformat_minor": 2
}
